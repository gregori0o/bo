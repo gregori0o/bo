{
 "cells": [
  {
   "cell_type": "code",
   "execution_count": null,
   "id": "482de45e",
   "metadata": {},
   "outputs": [],
   "source": [
    "import graphviz\n",
    "import random\n",
    "\n",
    "# uncomment using anacondawithout env path\n",
    "# import os\n",
    "# os.environ[\"PATH\"] += os.pathsep + 'C:/Users/Pawel/anaconda3/Library/bin/graphviz/'\n",
    "\n",
    "graphviz.__version__\n",
    "\n",
    "# Documentation:\n",
    "# https://graphviz.org/"
   ]
  },
  {
   "cell_type": "code",
   "execution_count": null,
   "id": "7a39a765",
   "metadata": {},
   "outputs": [],
   "source": [
    "g = graphviz.Graph('Buses lines', filename='buses_lines.gv', engine='sfdp')\n",
    "\n",
    "# colors:\n",
    "# https://graphviz.org/doc/info/colors.html\n",
    "\n",
    "# creates random colors for edges\n",
    "NUM_OF_LINES = 4\n",
    "r = lambda: random.randint(150, 255)\n",
    "colors = ['#%02X%02X%02X' % (r(),r(),r()) for line in range(NUM_OF_LINES)]\n",
    "# print(colors)\n",
    "\n",
    "# adds transfer stations\n",
    "g.attr('node', shape='doubleoctagon', style='filled', fillcolor='lightcoral', fixedsize='true')\n",
    "g.node('#2')\n",
    "g.node('#6')\n",
    "g.node('#7')\n",
    "g.node('#8')\n",
    "\n",
    "\n",
    "# adds unattended line segments\n",
    "g.attr('node', shape='circle', style='filled', fillcolor='lightskyblue1')\n",
    "g.attr('edge', penwidth='1')\n",
    "g.edge('#2', '#3', label='3')\n",
    "g.edge('#6', '#8', label='3')\n",
    "\n",
    "# adds attended line segments\n",
    "g.attr('edge', penwidth='5', fontcolor='black')\n",
    "g.edge('#1', '#2', label='3', color=colors[0])\n",
    "g.edge('#2', '#4', label='2', color=colors[0])\n",
    "g.edge('#4', '#5', label='1', color=colors[1])\n",
    "g.edge('#5', '#8', label='1', color=colors[1])\n",
    "g.edge('#3', '#6', label='5', color=colors[2])\n",
    "g.edge('#6', '#7', label='6', color=colors[2])\n",
    "g.edge('#7', '#10', label='2', color=colors[2])\n",
    "g.edge('#7', '#8', label='3', color=colors[3])\n",
    "g.edge('#8', '#9', label='5', color=colors[3])\n",
    "g.edge('#9', '#10', label='4', color=colors[3])\n",
    "\n",
    "g\n",
    "\n",
    "# creates pdf file\n",
    "# g.view()"
   ]
  }
 ],
 "metadata": {
  "kernelspec": {
   "display_name": "Python 3 (ipykernel)",
   "language": "python",
   "name": "python3"
  },
  "language_info": {
   "codemirror_mode": {
    "name": "ipython",
    "version": 3
   },
   "file_extension": ".py",
   "mimetype": "text/x-python",
   "name": "python",
   "nbconvert_exporter": "python",
   "pygments_lexer": "ipython3",
   "version": "3.9.7"
  }
 },
 "nbformat": 4,
 "nbformat_minor": 5
}
